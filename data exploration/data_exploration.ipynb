{
 "cells": [
  {
   "cell_type": "code",
   "execution_count": 4,
   "id": "073998fa",
   "metadata": {},
   "outputs": [],
   "source": [
    "import pandas as pd\n",
    "from owid import catalog\n",
    "import seaborn as sns"
   ]
  },
  {
   "cell_type": "code",
   "execution_count": 5,
   "id": "664391ca",
   "metadata": {},
   "outputs": [],
   "source": [
    "def load_datasets(search):\n",
    "    \n",
    "    # intialize catalog object\n",
    "    rc = catalog.RemoteCatalog()\n",
    "    \n",
    "    # identify all relevant datasets\n",
    "    search_results = list(catalog.find(search).path)\n",
    "    \n",
    "    # save each dataset as a csv file\n",
    "    for path in search_results:\n",
    "        table = rc[path]\n",
    "        filename = path.split(\"/\")[-1]\n",
    "        table.to_csv(f'{filename}.csv')"
   ]
  },
  {
   "cell_type": "code",
   "execution_count": 6,
   "id": "284092b3",
   "metadata": {},
   "outputs": [],
   "source": [
    "load_datasets('tropical')"
   ]
  },
  {
   "cell_type": "markdown",
   "id": "e7c96c50",
   "metadata": {},
   "source": [
    "# What skills are we trying to develop?\n",
    "\n",
    "## Kiara:\n",
    "* Data Wrangling\n",
    "* Epidemiology\n",
    "* Biostatistics\n",
    "* Health Economics\n",
    "* Cloud Computing\n",
    "\n",
    "## Ananda\n",
    "* Natural Language Processing\n",
    "* Cloud Computing\n",
    "\n",
    "Find a way to incorporate all of these skills into this project."
   ]
  },
  {
   "cell_type": "markdown",
   "id": "90a1f2ac",
   "metadata": {},
   "source": [
    "## Correlation Analysis\n",
    "* Elections\n",
    "* Climate Change\n",
    "* Academic writing and researchers (how do publications impact the space? what can be improved?\n",
    "* Vertical Integration (other popular interests for interdisciplinary attention)"
   ]
  }
 ],
 "metadata": {
  "kernelspec": {
   "display_name": "Python 3 (ipykernel)",
   "language": "python",
   "name": "python3"
  },
  "language_info": {
   "codemirror_mode": {
    "name": "ipython",
    "version": 3
   },
   "file_extension": ".py",
   "mimetype": "text/x-python",
   "name": "python",
   "nbconvert_exporter": "python",
   "pygments_lexer": "ipython3",
   "version": "3.8.13"
  }
 },
 "nbformat": 4,
 "nbformat_minor": 5
}
